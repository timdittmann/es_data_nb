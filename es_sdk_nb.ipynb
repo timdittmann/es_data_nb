{
 "cells": [
  {
   "cell_type": "code",
   "execution_count": 1,
   "id": "d511f827-ea6c-479b-9087-014f3c1bba79",
   "metadata": {},
   "outputs": [
    {
     "name": "stdout",
     "output_type": "stream",
     "text": [
      "Collecting earthscope_sdk\n",
      "  Using cached earthscope_sdk-0.2.0-py3-none-any.whl (19 kB)\n",
      "Collecting pyjwt>=2.4.0 (from earthscope_sdk)\n",
      "  Obtaining dependency information for pyjwt>=2.4.0 from https://files.pythonhosted.org/packages/2b/4f/e04a8067c7c96c364cef7ef73906504e2f40d690811c021e1a1901473a19/PyJWT-2.8.0-py3-none-any.whl.metadata\n",
      "  Downloading PyJWT-2.8.0-py3-none-any.whl.metadata (4.2 kB)\n",
      "Collecting requests>=2.27.1 (from earthscope_sdk)\n",
      "  Obtaining dependency information for requests>=2.27.1 from https://files.pythonhosted.org/packages/70/8e/0e2d847013cb52cd35b38c009bb167a1a26b2ce6cd6965bf26b47bc0bf44/requests-2.31.0-py3-none-any.whl.metadata\n",
      "  Downloading requests-2.31.0-py3-none-any.whl.metadata (4.6 kB)\n",
      "Requirement already satisfied: charset-normalizer<4,>=2 in /Users/dittmann/anaconda3/envs/snivel/lib/python3.10/site-packages (from requests>=2.27.1->earthscope_sdk) (2.0.7)\n",
      "Requirement already satisfied: idna<4,>=2.5 in /Users/dittmann/anaconda3/envs/snivel/lib/python3.10/site-packages (from requests>=2.27.1->earthscope_sdk) (3.3)\n",
      "Requirement already satisfied: urllib3<3,>=1.21.1 in /Users/dittmann/anaconda3/envs/snivel/lib/python3.10/site-packages (from requests>=2.27.1->earthscope_sdk) (1.26.7)\n",
      "Requirement already satisfied: certifi>=2017.4.17 in /Users/dittmann/anaconda3/envs/snivel/lib/python3.10/site-packages (from requests>=2.27.1->earthscope_sdk) (2021.10.8)\n",
      "Downloading PyJWT-2.8.0-py3-none-any.whl (22 kB)\n",
      "Using cached requests-2.31.0-py3-none-any.whl (62 kB)\n",
      "Installing collected packages: requests, pyjwt, earthscope_sdk\n",
      "  Attempting uninstall: requests\n",
      "    Found existing installation: requests 2.26.0\n",
      "    Uninstalling requests-2.26.0:\n",
      "      Successfully uninstalled requests-2.26.0\n",
      "\u001b[31mERROR: pip's dependency resolver does not currently take into account all the packages that are installed. This behaviour is the source of the following dependency conflicts.\n",
      "jupyterlab-server 2.24.0 requires packaging>=21.3, but you have packaging 21.2 which is incompatible.\u001b[0m\u001b[31m\n",
      "\u001b[0mSuccessfully installed earthscope_sdk-0.2.0 pyjwt-2.8.0 requests-2.31.0\n",
      "Note: you may need to restart the kernel to use updated packages.\n"
     ]
    }
   ],
   "source": [
    "%pip install earthscope_sdk"
   ]
  },
  {
   "cell_type": "code",
   "execution_count": 5,
   "id": "eebe17e8-45fb-4615-9f5c-83dd9e8faec1",
   "metadata": {},
   "outputs": [],
   "source": [
    "import requests\n",
    "from pathlib import Path\n",
    " \n",
    "from earthscope_sdk.auth.device_code_flow import DeviceCodeFlowSimple\n",
    "from earthscope_sdk.auth.auth_flow import NoTokensError\n",
    "\n",
    "def get_es_file(url, directory_to_save_file='./', token_path='./'):\n",
    "    \"\"\"function to get earthscope data using es-sdk\n",
    "    modified from https://gitlab.com/earthscope/public/earthscope-sdk\n",
    "\n",
    "    Parameters\n",
    "    ----------\n",
    "    url : string\n",
    "        url of desired file at gage-data.earthscope.org\n",
    "    directory_to_save_file : str, optional\n",
    "        path of directory in which to save the file, by default cwd\n",
    "    token_path : str, optional\n",
    "        path of directory in which to save the token, by default './'\n",
    "    \"\"\"\n",
    "    # instantiate the device code flow subclass\n",
    "    device_flow = DeviceCodeFlowSimple(Path(token_path))\n",
    "    try:\n",
    "      # get access token from local path\n",
    "      device_flow.get_access_token_refresh_if_necessary()\n",
    "    except NoTokensError:\n",
    "      # if no token was found locally, do the device code flow\n",
    "      device_flow.do_flow()\n",
    "    token = device_flow.access_token\n",
    "\n",
    "    # request a file and provide the token in the Authorization header\n",
    "    file_name = Path(url).name\n",
    "\n",
    "    r = requests.get(url, headers={\"authorization\": f\"Bearer {token}\"})\n",
    "    if r.status_code == requests.codes.ok:\n",
    "      # save the file\n",
    "      with open(Path(Path(directory_to_save_file) / file_name), 'wb') as f:\n",
    "          for data in r:\n",
    "              f.write(data)\n",
    "    else:\n",
    "      #problem occured\n",
    "      print(f\"failure: {r.status_code}, {r.reason}\")"
   ]
  },
  {
   "cell_type": "code",
   "execution_count": 9,
   "id": "820a2398-5fca-4f1d-9b1b-1a26fa0321cb",
   "metadata": {},
   "outputs": [],
   "source": [
    "url='https://gage-data.earthscope.org/archive/gnss/rinex/obs/2022/004/ab060040.22d.Z'\n",
    "get_es_file(url)"
   ]
  },
  {
   "cell_type": "code",
   "execution_count": null,
   "id": "54615cd4-c05d-4940-9191-6924ef5fe44b",
   "metadata": {},
   "outputs": [],
   "source": []
  }
 ],
 "metadata": {
  "kernelspec": {
   "display_name": "Python 3 (ipykernel)",
   "language": "python",
   "name": "python3"
  },
  "language_info": {
   "codemirror_mode": {
    "name": "ipython",
    "version": 3
   },
   "file_extension": ".py",
   "mimetype": "text/x-python",
   "name": "python",
   "nbconvert_exporter": "python",
   "pygments_lexer": "ipython3",
   "version": "3.10.12"
  }
 },
 "nbformat": 4,
 "nbformat_minor": 5
}
